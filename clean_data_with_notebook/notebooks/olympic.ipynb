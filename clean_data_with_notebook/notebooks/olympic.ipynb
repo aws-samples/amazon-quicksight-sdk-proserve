{
 "cells": [
  {
   "cell_type": "code",
   "execution_count": 5,
   "metadata": {
    "collapsed": true
   },
   "outputs": [],
   "source": [
    "import pandas\n",
    "import numpy\n",
    "import csv\n",
    "import jupyter\n"
   ]
  },
  {
   "cell_type": "code",
   "execution_count": 31,
   "outputs": [
    {
     "data": {
      "text/plain": "     medal_type  medal_code             medal_date athlete_short_name  \\\n0    Gold Medal           1  2021-07-24 00:00:00.0             KIM JD   \n1    Gold Medal           1  2021-07-24 00:00:00.0               AN S   \n2  Silver Medal           2  2021-07-24 00:00:00.0       SCHLOESSER G   \n3  Silver Medal           2  2021-07-24 00:00:00.0           WIJLER S   \n4  Bronze Medal           3  2021-07-24 00:00:00.0          ALVAREZ L   \n\n          athlete_name athlete_sex  \\\n0          KIM Je Deok           X   \n1               AN San           X   \n2  SCHLOESSER Gabriela           X   \n3         WIJLER Steve           X   \n4         ALVAREZ Luis           X   \n\n                                        athlete_link country_code  \\\n0  ../../../en/results/archery/athlete-profile-n1...          KOR   \n1  ../../../en/results/archery/athlete-profile-n1...          KOR   \n2  ../../../en/results/archery/athlete-profile-n1...          NED   \n3  ../../../en/results/archery/athlete-profile-n1...          NED   \n4  ../../../en/results/archery/athlete-profile-n1...          MEX   \n\n  discipline_code       event            country discipline  \n0             ARC  Mixed Team  Republic of Korea    Archery  \n1             ARC  Mixed Team  Republic of Korea    Archery  \n2             ARC  Mixed Team        Netherlands    Archery  \n3             ARC  Mixed Team        Netherlands    Archery  \n4             ARC  Mixed Team             Mexico    Archery  ",
      "text/html": "<div>\n<style scoped>\n    .dataframe tbody tr th:only-of-type {\n        vertical-align: middle;\n    }\n\n    .dataframe tbody tr th {\n        vertical-align: top;\n    }\n\n    .dataframe thead th {\n        text-align: right;\n    }\n</style>\n<table border=\"1\" class=\"dataframe\">\n  <thead>\n    <tr style=\"text-align: right;\">\n      <th></th>\n      <th>medal_type</th>\n      <th>medal_code</th>\n      <th>medal_date</th>\n      <th>athlete_short_name</th>\n      <th>athlete_name</th>\n      <th>athlete_sex</th>\n      <th>athlete_link</th>\n      <th>country_code</th>\n      <th>discipline_code</th>\n      <th>event</th>\n      <th>country</th>\n      <th>discipline</th>\n    </tr>\n  </thead>\n  <tbody>\n    <tr>\n      <th>0</th>\n      <td>Gold Medal</td>\n      <td>1</td>\n      <td>2021-07-24 00:00:00.0</td>\n      <td>KIM JD</td>\n      <td>KIM Je Deok</td>\n      <td>X</td>\n      <td>../../../en/results/archery/athlete-profile-n1...</td>\n      <td>KOR</td>\n      <td>ARC</td>\n      <td>Mixed Team</td>\n      <td>Republic of Korea</td>\n      <td>Archery</td>\n    </tr>\n    <tr>\n      <th>1</th>\n      <td>Gold Medal</td>\n      <td>1</td>\n      <td>2021-07-24 00:00:00.0</td>\n      <td>AN S</td>\n      <td>AN San</td>\n      <td>X</td>\n      <td>../../../en/results/archery/athlete-profile-n1...</td>\n      <td>KOR</td>\n      <td>ARC</td>\n      <td>Mixed Team</td>\n      <td>Republic of Korea</td>\n      <td>Archery</td>\n    </tr>\n    <tr>\n      <th>2</th>\n      <td>Silver Medal</td>\n      <td>2</td>\n      <td>2021-07-24 00:00:00.0</td>\n      <td>SCHLOESSER G</td>\n      <td>SCHLOESSER Gabriela</td>\n      <td>X</td>\n      <td>../../../en/results/archery/athlete-profile-n1...</td>\n      <td>NED</td>\n      <td>ARC</td>\n      <td>Mixed Team</td>\n      <td>Netherlands</td>\n      <td>Archery</td>\n    </tr>\n    <tr>\n      <th>3</th>\n      <td>Silver Medal</td>\n      <td>2</td>\n      <td>2021-07-24 00:00:00.0</td>\n      <td>WIJLER S</td>\n      <td>WIJLER Steve</td>\n      <td>X</td>\n      <td>../../../en/results/archery/athlete-profile-n1...</td>\n      <td>NED</td>\n      <td>ARC</td>\n      <td>Mixed Team</td>\n      <td>Netherlands</td>\n      <td>Archery</td>\n    </tr>\n    <tr>\n      <th>4</th>\n      <td>Bronze Medal</td>\n      <td>3</td>\n      <td>2021-07-24 00:00:00.0</td>\n      <td>ALVAREZ L</td>\n      <td>ALVAREZ Luis</td>\n      <td>X</td>\n      <td>../../../en/results/archery/athlete-profile-n1...</td>\n      <td>MEX</td>\n      <td>ARC</td>\n      <td>Mixed Team</td>\n      <td>Mexico</td>\n      <td>Archery</td>\n    </tr>\n  </tbody>\n</table>\n</div>"
     },
     "execution_count": 31,
     "metadata": {},
     "output_type": "execute_result"
    }
   ],
   "source": [
    "olympic = pandas.read_csv('../data/medals_athletes.csv')\n",
    "olympic.head()"
   ],
   "metadata": {
    "collapsed": false,
    "pycharm": {
     "name": "#%%\n"
    }
   }
  },
  {
   "cell_type": "code",
   "execution_count": 19,
   "outputs": [
    {
     "data": {
      "text/plain": "        medal_type  medal_code             medal_date athlete_short_name  \\\n0       Gold Medal           1  2021-07-24 00:00:00.0             KIM JD   \n1       Gold Medal           1  2021-07-24 00:00:00.0               AN S   \n2     Silver Medal           2  2021-07-24 00:00:00.0       SCHLOESSER G   \n3     Silver Medal           2  2021-07-24 00:00:00.0           WIJLER S   \n4     Bronze Medal           3  2021-07-24 00:00:00.0          ALVAREZ L   \n...            ...         ...                    ...                ...   \n2396  Bronze Medal           3  2021-08-08 00:00:00.0             NAGY V   \n2397  Bronze Medal           3  2021-08-08 00:00:00.0            VAMOS M   \n2398  Bronze Medal           3  2021-08-08 00:00:00.0            VARGA D   \n2399  Bronze Medal           3  2021-08-08 00:00:00.0            VOGEL S   \n2400  Bronze Medal           3  2021-08-08 00:00:00.0          ZALANKI G   \n\n             athlete_name athlete_sex  \\\n0             KIM Je Deok           X   \n1                  AN San           X   \n2     SCHLOESSER Gabriela           X   \n3            WIJLER Steve           X   \n4            ALVAREZ Luis           X   \n...                   ...         ...   \n2396          NAGY Viktor           M   \n2397         VAMOS Marton           M   \n2398          VARGA Denes           M   \n2399           VOGEL Soma           M   \n2400        ZALANKI Gergo           M   \n\n                                           athlete_link country_code  \\\n0     ../../../en/results/archery/athlete-profile-n1...          KOR   \n1     ../../../en/results/archery/athlete-profile-n1...          KOR   \n2     ../../../en/results/archery/athlete-profile-n1...          NED   \n3     ../../../en/results/archery/athlete-profile-n1...          NED   \n4     ../../../en/results/archery/athlete-profile-n1...          MEX   \n...                                                 ...          ...   \n2396  ../../../en/results/water-polo/athlete-profile...          HUN   \n2397  ../../../en/results/water-polo/athlete-profile...          HUN   \n2398  ../../../en/results/water-polo/athlete-profile...          HUN   \n2399  ../../../en/results/water-polo/athlete-profile...          HUN   \n2400  ../../../en/results/water-polo/athlete-profile...          HUN   \n\n           event            country  discipline  \n0     Mixed Team  Republic of Korea     Archery  \n1     Mixed Team  Republic of Korea     Archery  \n2     Mixed Team        Netherlands     Archery  \n3     Mixed Team        Netherlands     Archery  \n4     Mixed Team             Mexico     Archery  \n...          ...                ...         ...  \n2396         Men            Hungary  Water Polo  \n2397         Men            Hungary  Water Polo  \n2398         Men            Hungary  Water Polo  \n2399         Men            Hungary  Water Polo  \n2400         Men            Hungary  Water Polo  \n\n[2401 rows x 11 columns]",
      "text/html": "<div>\n<style scoped>\n    .dataframe tbody tr th:only-of-type {\n        vertical-align: middle;\n    }\n\n    .dataframe tbody tr th {\n        vertical-align: top;\n    }\n\n    .dataframe thead th {\n        text-align: right;\n    }\n</style>\n<table border=\"1\" class=\"dataframe\">\n  <thead>\n    <tr style=\"text-align: right;\">\n      <th></th>\n      <th>medal_type</th>\n      <th>medal_code</th>\n      <th>medal_date</th>\n      <th>athlete_short_name</th>\n      <th>athlete_name</th>\n      <th>athlete_sex</th>\n      <th>athlete_link</th>\n      <th>country_code</th>\n      <th>event</th>\n      <th>country</th>\n      <th>discipline</th>\n    </tr>\n  </thead>\n  <tbody>\n    <tr>\n      <th>0</th>\n      <td>Gold Medal</td>\n      <td>1</td>\n      <td>2021-07-24 00:00:00.0</td>\n      <td>KIM JD</td>\n      <td>KIM Je Deok</td>\n      <td>X</td>\n      <td>../../../en/results/archery/athlete-profile-n1...</td>\n      <td>KOR</td>\n      <td>Mixed Team</td>\n      <td>Republic of Korea</td>\n      <td>Archery</td>\n    </tr>\n    <tr>\n      <th>1</th>\n      <td>Gold Medal</td>\n      <td>1</td>\n      <td>2021-07-24 00:00:00.0</td>\n      <td>AN S</td>\n      <td>AN San</td>\n      <td>X</td>\n      <td>../../../en/results/archery/athlete-profile-n1...</td>\n      <td>KOR</td>\n      <td>Mixed Team</td>\n      <td>Republic of Korea</td>\n      <td>Archery</td>\n    </tr>\n    <tr>\n      <th>2</th>\n      <td>Silver Medal</td>\n      <td>2</td>\n      <td>2021-07-24 00:00:00.0</td>\n      <td>SCHLOESSER G</td>\n      <td>SCHLOESSER Gabriela</td>\n      <td>X</td>\n      <td>../../../en/results/archery/athlete-profile-n1...</td>\n      <td>NED</td>\n      <td>Mixed Team</td>\n      <td>Netherlands</td>\n      <td>Archery</td>\n    </tr>\n    <tr>\n      <th>3</th>\n      <td>Silver Medal</td>\n      <td>2</td>\n      <td>2021-07-24 00:00:00.0</td>\n      <td>WIJLER S</td>\n      <td>WIJLER Steve</td>\n      <td>X</td>\n      <td>../../../en/results/archery/athlete-profile-n1...</td>\n      <td>NED</td>\n      <td>Mixed Team</td>\n      <td>Netherlands</td>\n      <td>Archery</td>\n    </tr>\n    <tr>\n      <th>4</th>\n      <td>Bronze Medal</td>\n      <td>3</td>\n      <td>2021-07-24 00:00:00.0</td>\n      <td>ALVAREZ L</td>\n      <td>ALVAREZ Luis</td>\n      <td>X</td>\n      <td>../../../en/results/archery/athlete-profile-n1...</td>\n      <td>MEX</td>\n      <td>Mixed Team</td>\n      <td>Mexico</td>\n      <td>Archery</td>\n    </tr>\n    <tr>\n      <th>...</th>\n      <td>...</td>\n      <td>...</td>\n      <td>...</td>\n      <td>...</td>\n      <td>...</td>\n      <td>...</td>\n      <td>...</td>\n      <td>...</td>\n      <td>...</td>\n      <td>...</td>\n      <td>...</td>\n    </tr>\n    <tr>\n      <th>2396</th>\n      <td>Bronze Medal</td>\n      <td>3</td>\n      <td>2021-08-08 00:00:00.0</td>\n      <td>NAGY V</td>\n      <td>NAGY Viktor</td>\n      <td>M</td>\n      <td>../../../en/results/water-polo/athlete-profile...</td>\n      <td>HUN</td>\n      <td>Men</td>\n      <td>Hungary</td>\n      <td>Water Polo</td>\n    </tr>\n    <tr>\n      <th>2397</th>\n      <td>Bronze Medal</td>\n      <td>3</td>\n      <td>2021-08-08 00:00:00.0</td>\n      <td>VAMOS M</td>\n      <td>VAMOS Marton</td>\n      <td>M</td>\n      <td>../../../en/results/water-polo/athlete-profile...</td>\n      <td>HUN</td>\n      <td>Men</td>\n      <td>Hungary</td>\n      <td>Water Polo</td>\n    </tr>\n    <tr>\n      <th>2398</th>\n      <td>Bronze Medal</td>\n      <td>3</td>\n      <td>2021-08-08 00:00:00.0</td>\n      <td>VARGA D</td>\n      <td>VARGA Denes</td>\n      <td>M</td>\n      <td>../../../en/results/water-polo/athlete-profile...</td>\n      <td>HUN</td>\n      <td>Men</td>\n      <td>Hungary</td>\n      <td>Water Polo</td>\n    </tr>\n    <tr>\n      <th>2399</th>\n      <td>Bronze Medal</td>\n      <td>3</td>\n      <td>2021-08-08 00:00:00.0</td>\n      <td>VOGEL S</td>\n      <td>VOGEL Soma</td>\n      <td>M</td>\n      <td>../../../en/results/water-polo/athlete-profile...</td>\n      <td>HUN</td>\n      <td>Men</td>\n      <td>Hungary</td>\n      <td>Water Polo</td>\n    </tr>\n    <tr>\n      <th>2400</th>\n      <td>Bronze Medal</td>\n      <td>3</td>\n      <td>2021-08-08 00:00:00.0</td>\n      <td>ZALANKI G</td>\n      <td>ZALANKI Gergo</td>\n      <td>M</td>\n      <td>../../../en/results/water-polo/athlete-profile...</td>\n      <td>HUN</td>\n      <td>Men</td>\n      <td>Hungary</td>\n      <td>Water Polo</td>\n    </tr>\n  </tbody>\n</table>\n<p>2401 rows × 11 columns</p>\n</div>"
     },
     "execution_count": 19,
     "metadata": {},
     "output_type": "execute_result"
    }
   ],
   "source": [
    "olympic.drop(columns='discipline_code')"
   ],
   "metadata": {
    "collapsed": false,
    "pycharm": {
     "name": "#%%\n"
    }
   }
  },
  {
   "cell_type": "code",
   "execution_count": 20,
   "outputs": [
    {
     "data": {
      "text/plain": "        medal_type  medal_code             medal_date athlete_short_name  \\\n0       Gold Medal           1  2021-07-24 00:00:00.0             KIM JD   \n1       Gold Medal           1  2021-07-24 00:00:00.0               AN S   \n2     Silver Medal           2  2021-07-24 00:00:00.0       SCHLOESSER G   \n3     Silver Medal           2  2021-07-24 00:00:00.0           WIJLER S   \n4     Bronze Medal           3  2021-07-24 00:00:00.0          ALVAREZ L   \n...            ...         ...                    ...                ...   \n2396  Bronze Medal           3  2021-08-08 00:00:00.0             NAGY V   \n2397  Bronze Medal           3  2021-08-08 00:00:00.0            VAMOS M   \n2398  Bronze Medal           3  2021-08-08 00:00:00.0            VARGA D   \n2399  Bronze Medal           3  2021-08-08 00:00:00.0            VOGEL S   \n2400  Bronze Medal           3  2021-08-08 00:00:00.0          ZALANKI G   \n\n             athlete_name athlete_sex  \\\n0             KIM Je Deok           X   \n1                  AN San           X   \n2     SCHLOESSER Gabriela           X   \n3            WIJLER Steve           X   \n4            ALVAREZ Luis           X   \n...                   ...         ...   \n2396          NAGY Viktor           M   \n2397         VAMOS Marton           M   \n2398          VARGA Denes           M   \n2399           VOGEL Soma           M   \n2400        ZALANKI Gergo           M   \n\n                                           athlete_link country_code  \\\n0     ../../../en/results/archery/athlete-profile-n1...          KOR   \n1     ../../../en/results/archery/athlete-profile-n1...          KOR   \n2     ../../../en/results/archery/athlete-profile-n1...          NED   \n3     ../../../en/results/archery/athlete-profile-n1...          NED   \n4     ../../../en/results/archery/athlete-profile-n1...          MEX   \n...                                                 ...          ...   \n2396  ../../../en/results/water-polo/athlete-profile...          HUN   \n2397  ../../../en/results/water-polo/athlete-profile...          HUN   \n2398  ../../../en/results/water-polo/athlete-profile...          HUN   \n2399  ../../../en/results/water-polo/athlete-profile...          HUN   \n2400  ../../../en/results/water-polo/athlete-profile...          HUN   \n\n     discipline_code       event            country       sport  \n0                ARC  Mixed Team  Republic of Korea     Archery  \n1                ARC  Mixed Team  Republic of Korea     Archery  \n2                ARC  Mixed Team        Netherlands     Archery  \n3                ARC  Mixed Team        Netherlands     Archery  \n4                ARC  Mixed Team             Mexico     Archery  \n...              ...         ...                ...         ...  \n2396             WPO         Men            Hungary  Water Polo  \n2397             WPO         Men            Hungary  Water Polo  \n2398             WPO         Men            Hungary  Water Polo  \n2399             WPO         Men            Hungary  Water Polo  \n2400             WPO         Men            Hungary  Water Polo  \n\n[2401 rows x 12 columns]",
      "text/html": "<div>\n<style scoped>\n    .dataframe tbody tr th:only-of-type {\n        vertical-align: middle;\n    }\n\n    .dataframe tbody tr th {\n        vertical-align: top;\n    }\n\n    .dataframe thead th {\n        text-align: right;\n    }\n</style>\n<table border=\"1\" class=\"dataframe\">\n  <thead>\n    <tr style=\"text-align: right;\">\n      <th></th>\n      <th>medal_type</th>\n      <th>medal_code</th>\n      <th>medal_date</th>\n      <th>athlete_short_name</th>\n      <th>athlete_name</th>\n      <th>athlete_sex</th>\n      <th>athlete_link</th>\n      <th>country_code</th>\n      <th>discipline_code</th>\n      <th>event</th>\n      <th>country</th>\n      <th>sport</th>\n    </tr>\n  </thead>\n  <tbody>\n    <tr>\n      <th>0</th>\n      <td>Gold Medal</td>\n      <td>1</td>\n      <td>2021-07-24 00:00:00.0</td>\n      <td>KIM JD</td>\n      <td>KIM Je Deok</td>\n      <td>X</td>\n      <td>../../../en/results/archery/athlete-profile-n1...</td>\n      <td>KOR</td>\n      <td>ARC</td>\n      <td>Mixed Team</td>\n      <td>Republic of Korea</td>\n      <td>Archery</td>\n    </tr>\n    <tr>\n      <th>1</th>\n      <td>Gold Medal</td>\n      <td>1</td>\n      <td>2021-07-24 00:00:00.0</td>\n      <td>AN S</td>\n      <td>AN San</td>\n      <td>X</td>\n      <td>../../../en/results/archery/athlete-profile-n1...</td>\n      <td>KOR</td>\n      <td>ARC</td>\n      <td>Mixed Team</td>\n      <td>Republic of Korea</td>\n      <td>Archery</td>\n    </tr>\n    <tr>\n      <th>2</th>\n      <td>Silver Medal</td>\n      <td>2</td>\n      <td>2021-07-24 00:00:00.0</td>\n      <td>SCHLOESSER G</td>\n      <td>SCHLOESSER Gabriela</td>\n      <td>X</td>\n      <td>../../../en/results/archery/athlete-profile-n1...</td>\n      <td>NED</td>\n      <td>ARC</td>\n      <td>Mixed Team</td>\n      <td>Netherlands</td>\n      <td>Archery</td>\n    </tr>\n    <tr>\n      <th>3</th>\n      <td>Silver Medal</td>\n      <td>2</td>\n      <td>2021-07-24 00:00:00.0</td>\n      <td>WIJLER S</td>\n      <td>WIJLER Steve</td>\n      <td>X</td>\n      <td>../../../en/results/archery/athlete-profile-n1...</td>\n      <td>NED</td>\n      <td>ARC</td>\n      <td>Mixed Team</td>\n      <td>Netherlands</td>\n      <td>Archery</td>\n    </tr>\n    <tr>\n      <th>4</th>\n      <td>Bronze Medal</td>\n      <td>3</td>\n      <td>2021-07-24 00:00:00.0</td>\n      <td>ALVAREZ L</td>\n      <td>ALVAREZ Luis</td>\n      <td>X</td>\n      <td>../../../en/results/archery/athlete-profile-n1...</td>\n      <td>MEX</td>\n      <td>ARC</td>\n      <td>Mixed Team</td>\n      <td>Mexico</td>\n      <td>Archery</td>\n    </tr>\n    <tr>\n      <th>...</th>\n      <td>...</td>\n      <td>...</td>\n      <td>...</td>\n      <td>...</td>\n      <td>...</td>\n      <td>...</td>\n      <td>...</td>\n      <td>...</td>\n      <td>...</td>\n      <td>...</td>\n      <td>...</td>\n      <td>...</td>\n    </tr>\n    <tr>\n      <th>2396</th>\n      <td>Bronze Medal</td>\n      <td>3</td>\n      <td>2021-08-08 00:00:00.0</td>\n      <td>NAGY V</td>\n      <td>NAGY Viktor</td>\n      <td>M</td>\n      <td>../../../en/results/water-polo/athlete-profile...</td>\n      <td>HUN</td>\n      <td>WPO</td>\n      <td>Men</td>\n      <td>Hungary</td>\n      <td>Water Polo</td>\n    </tr>\n    <tr>\n      <th>2397</th>\n      <td>Bronze Medal</td>\n      <td>3</td>\n      <td>2021-08-08 00:00:00.0</td>\n      <td>VAMOS M</td>\n      <td>VAMOS Marton</td>\n      <td>M</td>\n      <td>../../../en/results/water-polo/athlete-profile...</td>\n      <td>HUN</td>\n      <td>WPO</td>\n      <td>Men</td>\n      <td>Hungary</td>\n      <td>Water Polo</td>\n    </tr>\n    <tr>\n      <th>2398</th>\n      <td>Bronze Medal</td>\n      <td>3</td>\n      <td>2021-08-08 00:00:00.0</td>\n      <td>VARGA D</td>\n      <td>VARGA Denes</td>\n      <td>M</td>\n      <td>../../../en/results/water-polo/athlete-profile...</td>\n      <td>HUN</td>\n      <td>WPO</td>\n      <td>Men</td>\n      <td>Hungary</td>\n      <td>Water Polo</td>\n    </tr>\n    <tr>\n      <th>2399</th>\n      <td>Bronze Medal</td>\n      <td>3</td>\n      <td>2021-08-08 00:00:00.0</td>\n      <td>VOGEL S</td>\n      <td>VOGEL Soma</td>\n      <td>M</td>\n      <td>../../../en/results/water-polo/athlete-profile...</td>\n      <td>HUN</td>\n      <td>WPO</td>\n      <td>Men</td>\n      <td>Hungary</td>\n      <td>Water Polo</td>\n    </tr>\n    <tr>\n      <th>2400</th>\n      <td>Bronze Medal</td>\n      <td>3</td>\n      <td>2021-08-08 00:00:00.0</td>\n      <td>ZALANKI G</td>\n      <td>ZALANKI Gergo</td>\n      <td>M</td>\n      <td>../../../en/results/water-polo/athlete-profile...</td>\n      <td>HUN</td>\n      <td>WPO</td>\n      <td>Men</td>\n      <td>Hungary</td>\n      <td>Water Polo</td>\n    </tr>\n  </tbody>\n</table>\n<p>2401 rows × 12 columns</p>\n</div>"
     },
     "execution_count": 20,
     "metadata": {},
     "output_type": "execute_result"
    }
   ],
   "source": [
    "olympic.rename(columns={'discipline': 'sport'})"
   ],
   "metadata": {
    "collapsed": false,
    "pycharm": {
     "name": "#%%\n"
    }
   }
  },
  {
   "cell_type": "code",
   "execution_count": 28,
   "outputs": [],
   "source": [
    "olympic[\"medal_type\"]= olympic[\"medal_type\"].str.split(' ').str[0]"
   ],
   "metadata": {
    "collapsed": false,
    "pycharm": {
     "name": "#%%\n"
    }
   }
  },
  {
   "cell_type": "code",
   "execution_count": 29,
   "outputs": [
    {
     "data": {
      "text/plain": "  medal_type  medal_code             medal_date athlete_short_name  \\\n0       Gold           1  2021-07-24 00:00:00.0             KIM JD   \n1       Gold           1  2021-07-24 00:00:00.0               AN S   \n2     Silver           2  2021-07-24 00:00:00.0       SCHLOESSER G   \n3     Silver           2  2021-07-24 00:00:00.0           WIJLER S   \n4     Bronze           3  2021-07-24 00:00:00.0          ALVAREZ L   \n\n          athlete_name athlete_sex  \\\n0          KIM Je Deok           X   \n1               AN San           X   \n2  SCHLOESSER Gabriela           X   \n3         WIJLER Steve           X   \n4         ALVAREZ Luis           X   \n\n                                        athlete_link country_code  \\\n0  ../../../en/results/archery/athlete-profile-n1...          KOR   \n1  ../../../en/results/archery/athlete-profile-n1...          KOR   \n2  ../../../en/results/archery/athlete-profile-n1...          NED   \n3  ../../../en/results/archery/athlete-profile-n1...          NED   \n4  ../../../en/results/archery/athlete-profile-n1...          MEX   \n\n  discipline_code       event            country discipline  \n0             ARC  Mixed Team  Republic of Korea    Archery  \n1             ARC  Mixed Team  Republic of Korea    Archery  \n2             ARC  Mixed Team        Netherlands    Archery  \n3             ARC  Mixed Team        Netherlands    Archery  \n4             ARC  Mixed Team             Mexico    Archery  ",
      "text/html": "<div>\n<style scoped>\n    .dataframe tbody tr th:only-of-type {\n        vertical-align: middle;\n    }\n\n    .dataframe tbody tr th {\n        vertical-align: top;\n    }\n\n    .dataframe thead th {\n        text-align: right;\n    }\n</style>\n<table border=\"1\" class=\"dataframe\">\n  <thead>\n    <tr style=\"text-align: right;\">\n      <th></th>\n      <th>medal_type</th>\n      <th>medal_code</th>\n      <th>medal_date</th>\n      <th>athlete_short_name</th>\n      <th>athlete_name</th>\n      <th>athlete_sex</th>\n      <th>athlete_link</th>\n      <th>country_code</th>\n      <th>discipline_code</th>\n      <th>event</th>\n      <th>country</th>\n      <th>discipline</th>\n    </tr>\n  </thead>\n  <tbody>\n    <tr>\n      <th>0</th>\n      <td>Gold</td>\n      <td>1</td>\n      <td>2021-07-24 00:00:00.0</td>\n      <td>KIM JD</td>\n      <td>KIM Je Deok</td>\n      <td>X</td>\n      <td>../../../en/results/archery/athlete-profile-n1...</td>\n      <td>KOR</td>\n      <td>ARC</td>\n      <td>Mixed Team</td>\n      <td>Republic of Korea</td>\n      <td>Archery</td>\n    </tr>\n    <tr>\n      <th>1</th>\n      <td>Gold</td>\n      <td>1</td>\n      <td>2021-07-24 00:00:00.0</td>\n      <td>AN S</td>\n      <td>AN San</td>\n      <td>X</td>\n      <td>../../../en/results/archery/athlete-profile-n1...</td>\n      <td>KOR</td>\n      <td>ARC</td>\n      <td>Mixed Team</td>\n      <td>Republic of Korea</td>\n      <td>Archery</td>\n    </tr>\n    <tr>\n      <th>2</th>\n      <td>Silver</td>\n      <td>2</td>\n      <td>2021-07-24 00:00:00.0</td>\n      <td>SCHLOESSER G</td>\n      <td>SCHLOESSER Gabriela</td>\n      <td>X</td>\n      <td>../../../en/results/archery/athlete-profile-n1...</td>\n      <td>NED</td>\n      <td>ARC</td>\n      <td>Mixed Team</td>\n      <td>Netherlands</td>\n      <td>Archery</td>\n    </tr>\n    <tr>\n      <th>3</th>\n      <td>Silver</td>\n      <td>2</td>\n      <td>2021-07-24 00:00:00.0</td>\n      <td>WIJLER S</td>\n      <td>WIJLER Steve</td>\n      <td>X</td>\n      <td>../../../en/results/archery/athlete-profile-n1...</td>\n      <td>NED</td>\n      <td>ARC</td>\n      <td>Mixed Team</td>\n      <td>Netherlands</td>\n      <td>Archery</td>\n    </tr>\n    <tr>\n      <th>4</th>\n      <td>Bronze</td>\n      <td>3</td>\n      <td>2021-07-24 00:00:00.0</td>\n      <td>ALVAREZ L</td>\n      <td>ALVAREZ Luis</td>\n      <td>X</td>\n      <td>../../../en/results/archery/athlete-profile-n1...</td>\n      <td>MEX</td>\n      <td>ARC</td>\n      <td>Mixed Team</td>\n      <td>Mexico</td>\n      <td>Archery</td>\n    </tr>\n  </tbody>\n</table>\n</div>"
     },
     "execution_count": 29,
     "metadata": {},
     "output_type": "execute_result"
    }
   ],
   "source": [
    "olympic.head()"
   ],
   "metadata": {
    "collapsed": false,
    "pycharm": {
     "name": "#%%\n"
    }
   }
  }
 ],
 "metadata": {
  "kernelspec": {
   "display_name": "Python 3",
   "language": "python",
   "name": "python3"
  },
  "language_info": {
   "codemirror_mode": {
    "name": "ipython",
    "version": 2
   },
   "file_extension": ".py",
   "mimetype": "text/x-python",
   "name": "python",
   "nbconvert_exporter": "python",
   "pygments_lexer": "ipython2",
   "version": "2.7.6"
  }
 },
 "nbformat": 4,
 "nbformat_minor": 0
}